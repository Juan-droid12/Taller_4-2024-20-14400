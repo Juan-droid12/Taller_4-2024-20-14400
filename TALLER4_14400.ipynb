{
  "nbformat": 4,
  "nbformat_minor": 0,
  "metadata": {
    "colab": {
      "provenance": [],
      "authorship_tag": "ABX9TyPgmHfdrn859JL1+emHQmdF",
      "include_colab_link": true
    },
    "kernelspec": {
      "name": "python3",
      "display_name": "Python 3"
    },
    "language_info": {
      "name": "python"
    }
  },
  "cells": [
    {
      "cell_type": "markdown",
      "metadata": {
        "id": "view-in-github",
        "colab_type": "text"
      },
      "source": [
        "<a href=\"https://colab.research.google.com/github/Juan-droid12/Taller_4-2024-20-14400/blob/main/TALLER4_14400.ipynb\" target=\"_parent\"><img src=\"https://colab.research.google.com/assets/colab-badge.svg\" alt=\"Open In Colab\"/></a>"
      ]
    },
    {
      "cell_type": "markdown",
      "source": [
        "# Taller 4\n",
        "### Fundamentos de programcion\n",
        "\n",
        "**Nombre:** JUAN DAVID CHIMACHANA\n",
        "\n",
        "***_Fecha de creacion:_*** 02 de octubre de 2024\n",
        "\n",
        "**email:** juan.chimachana@upb.edu.co\n"
      ],
      "metadata": {
        "id": "LJMQzVFtHMov"
      }
    },
    {
      "cell_type": "markdown",
      "source": [
        "Desarrolla un programa que permita calcular el promedio ponderado de una serie de notas. El\n",
        "programa debe pedir al usuario ingresar una calificación y su respectivo porcentaje o peso en cada\n",
        "iteración. Una vez ingresada una calificación con su peso, el programa debe preguntar si desea\n",
        "ingresar otra más. Si el usuario responde \"no\", el programa calcula y muestra el promedio ponderado\n",
        "basado en los valores ingresados hasta ese momento.\n",
        "\n",
        "# Algoritmo: calcular promedio ponderado\n",
        "\n",
        "1. iniciar\n",
        "2. inicializar con las variables total_calificacion = 0, peso_nota= 0, suma_pesos = 0 y mas_notas = \"si\"\n",
        "3. declarar las variables de promedio, notas, peso_nota\n",
        "4. si el usuario ingresa la palabra \"si\"  en mas_notas se debe seguir con los con las sigientes variables.\n",
        "    a. obtener nota\n",
        "    b. obtener peso_nota\n",
        "    c. sumar a total_calificacion = nota * peso_nota\n",
        "    d. sumar suma_pesos: peso_nota\n",
        "    e. preguntar si desea ingresar mas notas\n",
        "    f. Si el usuario responde \"no\", mas_notas = False\n",
        "5. calcular promedio = total_calificacion / sumar_pesos\n",
        "6. mostrar promedio\n",
        "7. finalizar"
      ],
      "metadata": {
        "id": "TmUWU8tFNKlY"
      }
    },
    {
      "cell_type": "code",
      "execution_count": null,
      "metadata": {
        "colab": {
          "base_uri": "https://localhost:8080/",
          "height": 106
        },
        "id": "9Qiqa3pUG8aU",
        "outputId": "7e904e66-fc7a-4c03-99d8-cba106f33edf"
      },
      "outputs": [
        {
          "output_type": "error",
          "ename": "SyntaxError",
          "evalue": "invalid syntax (<ipython-input-1-6525b8612bcb>, line 3)",
          "traceback": [
            "\u001b[0;36m  File \u001b[0;32m\"<ipython-input-1-6525b8612bcb>\"\u001b[0;36m, line \u001b[0;32m3\u001b[0m\n\u001b[0;31m    program calcularpromedio\u001b[0m\n\u001b[0m            ^\u001b[0m\n\u001b[0;31mSyntaxError\u001b[0m\u001b[0;31m:\u001b[0m invalid syntax\n"
          ]
        }
      ],
      "source": [
        "# pseudocodigo\n",
        "\n",
        "program calcularpromedio\n",
        "\n",
        "star\n",
        "\n",
        "# declacion de variables\n",
        "\n",
        "declare float total_calificacion = 0\n",
        "declare float sumar_pesos = 0\n",
        "declare bool mas_notas = True\n",
        "declare float promedio, nota, peso_nota\n",
        "declare string user_answer\n",
        "\n",
        "while (mas_notas)\n",
        "\n",
        "      display \"ingrese su notas\"\n",
        "      input nota\n",
        "      display \"ingrese peso de la nota\"\n",
        "      input peso_nota\n",
        "\n",
        "      set total_calificaion += nota * peso_nota\n",
        "      set sumar_pesos += peso_nota\n",
        "\n",
        "      display \"¿hay mas nota?\" (si/no)=\n",
        "      if user_answer i= \"si\" then\n",
        "              mas_notas = False\n",
        "\n",
        "      end if\n",
        "end while\n",
        "\n",
        "\n",
        "set promedio = total_calificacion / sumar_pesos\n",
        "dosplay \"el promedio es\" , promedio\n",
        "\n",
        "end"
      ]
    },
    {
      "cell_type": "code",
      "source": [
        "# codigo phayton\n",
        "\n",
        "# Declaración de variables\n",
        "total_calificacion = 0\n",
        "sumar_pesos = 0\n",
        "mas_notas = True\n",
        "\n",
        "\n",
        "\n",
        "while mas_notas:\n",
        "\n",
        "    nota = float(input(\"Ingrese su nota: \"))\n",
        "    peso_nota = float(input(\"Ingrese el peso de la nota: \"))\n",
        "\n",
        "\n",
        "    total_calificacion += nota * peso_nota\n",
        "    sumar_pesos += peso_nota\n",
        "\n",
        "\n",
        "    user_answer = input(\"¿Hay más notas? (si/no): \")\n",
        "    if user_answer == \"no\":\n",
        "        mas_notas = False\n",
        "\n",
        "if sumar_pesos > 0:\n",
        "    promedio = total_calificacion / sumar_pesos\n",
        "    print(f\"El promedio es: {promedio:}\")\n",
        "else:\n",
        "    print(\"No se ingresaron notas.\")\n",
        "\n"
      ],
      "metadata": {
        "colab": {
          "base_uri": "https://localhost:8080/"
        },
        "id": "svKpiZ9jX3Cl",
        "outputId": "81fc6751-740a-4f66-b98a-51c6ce7d46ff"
      },
      "execution_count": null,
      "outputs": [
        {
          "output_type": "stream",
          "name": "stdout",
          "text": [
            "Ingrese su nota: 1\n",
            "Ingrese el peso de la nota: 0.2\n",
            "¿Hay más notas? (si/no): si\n",
            "Ingrese su nota: 2\n",
            "Ingrese el peso de la nota: 0.5\n",
            "¿Hay más notas? (si/no): no\n",
            "El promedio ponderado es: 1.7142857142857144\n"
          ]
        }
      ]
    },
    {
      "cell_type": "code",
      "source": [
        "\n"
      ],
      "metadata": {
        "id": "Hxh5FGKIWZyN"
      },
      "execution_count": null,
      "outputs": []
    },
    {
      "cell_type": "markdown",
      "source": [
        "Crea un programa que permita jugar a \"Cara o Sello\" con el usuario. El programa seleccionará de\n",
        "manera aleatoria \"cara\" o \"sello\" y luego pedirá al usuario que haga su adivinanza. Si acierta, se le\n",
        "sumará un punto. Si falla, tendrá tres intentos antes de que el juego termine. Al finalizar el juego, se le\n",
        "mostrará al usuario la cantidad de puntos obtenidos y se le preguntará si quiere jugar de nuevo. Si el\n",
        "usuario elige \"sí\", el juego se reinicia. Si elige \"no\", el programa finaliza.\n",
        "\n",
        "\n",
        "# Algoritmo:  Juego de Cara o Sello\n",
        "\n",
        "1. iniciar\n",
        "2. inicializar declaron variables.\n",
        "   a.acumulador de puntos (puntos = 0 ),\n",
        "   b. intentos maximos (intentos = 3)\n",
        "   c. para seguir o no jugando (seguir_jugando = True)\n",
        "   d. obtener respuesta del usuario( respuesta_usuario)\n",
        "   d. el programa selecccionara de forma aleatorea entre \"cara\" o \"sello\" (resultado_aleatorio)\n",
        "3. si el jugador decide seguir jugando.\n",
        "   a. incializar intentos = 3; intentos > 0\n",
        "   b. generar un resultado aleatorio entre \"cara\" o \"sello\"\n",
        "   c. mostrar \" elige \"cara\" o \"sello\"\n",
        "   d. leer la respuesta_usuario y si la respuesta, es igual a la que escogio el programa incrementa los puntos y mostrar adivinaste y agregar un punto\n",
        "4.  si no coincide  se resta un punto de los intentos y se muestra \"intento fallido\", hasta que se acaben los intentos para luego mostrar \"juego terminado\" y se mostrara el numero de puntos obtenidos\n",
        "5. si el usuario quiere seguir juganod se motrara \"¿Quieres jugar de nuevo? (sí/no)\". Si la respuesta es \"sí\", continuar el ciclo.\n",
        "Si la respuesta es \"no\", hacer seguir_jugando = False y finalizar.\n",
        "6. finalizar\n",
        "\n",
        "\n",
        "\n",
        "\n"
      ],
      "metadata": {
        "id": "GUtPQFsHXIff"
      }
    },
    {
      "cell_type": "code",
      "source": [
        "program cara_o_sello\n",
        "\n",
        "start\n",
        "\n",
        "# Declaración de variables\n",
        "declare int puntos = 0\n",
        "declare int intentos = 3\n",
        "declare bool seguir_jugando = True\n",
        "declare string resultado_aleatorio, respuesta_usuario\n",
        "declare string jugar_de_nuevo\n",
        "\n",
        "while seguir_jugando\n",
        "    set intentos = 3\n",
        "\n",
        "        set resultado_aleatorio = aleatorio(\"cara\", \"sello\")\n",
        "\n",
        "        display \"Elige cara o sello:\"\n",
        "        input respuesta_usuario\n",
        "\n",
        "        if respuesta_usuario == resultado_aleatorio then\n",
        "            set puntos = puntos + 1\n",
        "            display \"¡Adivinaste!\"\n",
        "\n",
        "        else\n",
        "            set intentos = intentos - 1\n",
        "            if intentos > 0 then\n",
        "                display \"Intento fallido, te quedan \", intentos, \" intentos.\"\n",
        "            else\n",
        "                display \"No acertaste en los 3 intentos.\"\n",
        "            end if\n",
        "        end if\n",
        "    end while\n",
        "\n",
        "\n",
        "    display \"Juego terminado. Tienes \", puntos, \" puntos.\"\n",
        "    display \"¿Quieres jugar de nuevo? (si/no):\"\n",
        "    input jugar_de_nuevo\n",
        "\n",
        "    if jugar_de_nuevo == \"no\" then\n",
        "        set seguir_jugando = False\n",
        "    end if\n",
        "end while\n",
        "\n",
        "end\n",
        "\n"
      ],
      "metadata": {
        "id": "hBN-r6dEgXNE"
      },
      "execution_count": null,
      "outputs": []
    },
    {
      "cell_type": "code",
      "source": [
        "# codigo phayton\n",
        "import random\n",
        "\n",
        "def jugar_cara_o_sello():\n",
        "\n",
        "    puntos = 0\n",
        "    seguir_jugando = True\n",
        "\n",
        "\n",
        "    while seguir_jugando:\n",
        "        intentos = 3\n",
        "\n",
        "        while intentos > 0:\n",
        "\n",
        "            resultado_aleatorio = random.choice([\"cara\", \"sello\"])\n",
        "\n",
        "\n",
        "            respuesta_usuario = input(\"Elige cara o sello: \")\n",
        "\n",
        "            if respuesta_usuario == resultado_aleatorio:\n",
        "                puntos += 1\n",
        "                print(f\"¡Adivinaste!\")\n",
        "                break\n",
        "            else:\n",
        "                intentos -= 1\n",
        "                if intentos > 0:\n",
        "                    print(f\"Intento fallido, te quedan {intentos} intentos.\")\n",
        "                else:\n",
        "                    print(\"No acertaste en los 3 intentos.\")\n",
        "\n",
        "\n",
        "        print(f\"Juego terminado. Tienes {puntos} puntos.\")\n",
        "\n",
        "\n",
        "        respuesta_juego = input(\"¿Quieres jugar de nuevo? (sí/no): \")\n",
        "        if respuesta_juego == \"no\":\n",
        "            seguir_jugando = False\n",
        "\n",
        "jugar_cara_o_sello()\n"
      ],
      "metadata": {
        "id": "6gojk86kirGZ",
        "colab": {
          "base_uri": "https://localhost:8080/",
          "height": 321
        },
        "outputId": "d9cb862e-ff11-4970-b740-86877177ef53"
      },
      "execution_count": 9,
      "outputs": [
        {
          "output_type": "error",
          "ename": "KeyboardInterrupt",
          "evalue": "Interrupted by user",
          "traceback": [
            "\u001b[0;31m---------------------------------------------------------------------------\u001b[0m",
            "\u001b[0;31mKeyboardInterrupt\u001b[0m                         Traceback (most recent call last)",
            "\u001b[0;32m<ipython-input-9-13dfdfb803f7>\u001b[0m in \u001b[0;36m<cell line: 39>\u001b[0;34m()\u001b[0m\n\u001b[1;32m     37\u001b[0m             \u001b[0mseguir_jugando\u001b[0m \u001b[0;34m=\u001b[0m \u001b[0;32mFalse\u001b[0m\u001b[0;34m\u001b[0m\u001b[0;34m\u001b[0m\u001b[0m\n\u001b[1;32m     38\u001b[0m \u001b[0;34m\u001b[0m\u001b[0m\n\u001b[0;32m---> 39\u001b[0;31m \u001b[0mjugar_cara_o_sello\u001b[0m\u001b[0;34m(\u001b[0m\u001b[0;34m)\u001b[0m\u001b[0;34m\u001b[0m\u001b[0;34m\u001b[0m\u001b[0m\n\u001b[0m",
            "\u001b[0;32m<ipython-input-9-13dfdfb803f7>\u001b[0m in \u001b[0;36mjugar_cara_o_sello\u001b[0;34m()\u001b[0m\n\u001b[1;32m     16\u001b[0m \u001b[0;34m\u001b[0m\u001b[0m\n\u001b[1;32m     17\u001b[0m \u001b[0;34m\u001b[0m\u001b[0m\n\u001b[0;32m---> 18\u001b[0;31m             \u001b[0mrespuesta_usuario\u001b[0m \u001b[0;34m=\u001b[0m \u001b[0minput\u001b[0m\u001b[0;34m(\u001b[0m\u001b[0;34m\"Elige cara o sello: \"\u001b[0m\u001b[0;34m)\u001b[0m\u001b[0;34m\u001b[0m\u001b[0;34m\u001b[0m\u001b[0m\n\u001b[0m\u001b[1;32m     19\u001b[0m \u001b[0;34m\u001b[0m\u001b[0m\n\u001b[1;32m     20\u001b[0m             \u001b[0;32mif\u001b[0m \u001b[0mrespuesta_usuario\u001b[0m \u001b[0;34m==\u001b[0m \u001b[0mresultado_aleatorio\u001b[0m\u001b[0;34m:\u001b[0m\u001b[0;34m\u001b[0m\u001b[0;34m\u001b[0m\u001b[0m\n",
            "\u001b[0;32m/usr/local/lib/python3.10/dist-packages/ipykernel/kernelbase.py\u001b[0m in \u001b[0;36mraw_input\u001b[0;34m(self, prompt)\u001b[0m\n\u001b[1;32m    849\u001b[0m                 \u001b[0;34m\"raw_input was called, but this frontend does not support input requests.\"\u001b[0m\u001b[0;34m\u001b[0m\u001b[0;34m\u001b[0m\u001b[0m\n\u001b[1;32m    850\u001b[0m             )\n\u001b[0;32m--> 851\u001b[0;31m         return self._input_request(str(prompt),\n\u001b[0m\u001b[1;32m    852\u001b[0m             \u001b[0mself\u001b[0m\u001b[0;34m.\u001b[0m\u001b[0m_parent_ident\u001b[0m\u001b[0;34m,\u001b[0m\u001b[0;34m\u001b[0m\u001b[0;34m\u001b[0m\u001b[0m\n\u001b[1;32m    853\u001b[0m             \u001b[0mself\u001b[0m\u001b[0;34m.\u001b[0m\u001b[0m_parent_header\u001b[0m\u001b[0;34m,\u001b[0m\u001b[0;34m\u001b[0m\u001b[0;34m\u001b[0m\u001b[0m\n",
            "\u001b[0;32m/usr/local/lib/python3.10/dist-packages/ipykernel/kernelbase.py\u001b[0m in \u001b[0;36m_input_request\u001b[0;34m(self, prompt, ident, parent, password)\u001b[0m\n\u001b[1;32m    893\u001b[0m             \u001b[0;32mexcept\u001b[0m \u001b[0mKeyboardInterrupt\u001b[0m\u001b[0;34m:\u001b[0m\u001b[0;34m\u001b[0m\u001b[0;34m\u001b[0m\u001b[0m\n\u001b[1;32m    894\u001b[0m                 \u001b[0;31m# re-raise KeyboardInterrupt, to truncate traceback\u001b[0m\u001b[0;34m\u001b[0m\u001b[0;34m\u001b[0m\u001b[0m\n\u001b[0;32m--> 895\u001b[0;31m                 \u001b[0;32mraise\u001b[0m \u001b[0mKeyboardInterrupt\u001b[0m\u001b[0;34m(\u001b[0m\u001b[0;34m\"Interrupted by user\"\u001b[0m\u001b[0;34m)\u001b[0m \u001b[0;32mfrom\u001b[0m \u001b[0;32mNone\u001b[0m\u001b[0;34m\u001b[0m\u001b[0;34m\u001b[0m\u001b[0m\n\u001b[0m\u001b[1;32m    896\u001b[0m             \u001b[0;32mexcept\u001b[0m \u001b[0mException\u001b[0m \u001b[0;32mas\u001b[0m \u001b[0me\u001b[0m\u001b[0;34m:\u001b[0m\u001b[0;34m\u001b[0m\u001b[0;34m\u001b[0m\u001b[0m\n\u001b[1;32m    897\u001b[0m                 \u001b[0mself\u001b[0m\u001b[0;34m.\u001b[0m\u001b[0mlog\u001b[0m\u001b[0;34m.\u001b[0m\u001b[0mwarning\u001b[0m\u001b[0;34m(\u001b[0m\u001b[0;34m\"Invalid Message:\"\u001b[0m\u001b[0;34m,\u001b[0m \u001b[0mexc_info\u001b[0m\u001b[0;34m=\u001b[0m\u001b[0;32mTrue\u001b[0m\u001b[0;34m)\u001b[0m\u001b[0;34m\u001b[0m\u001b[0;34m\u001b[0m\u001b[0m\n",
            "\u001b[0;31mKeyboardInterrupt\u001b[0m: Interrupted by user"
          ]
        }
      ]
    }
  ]
}